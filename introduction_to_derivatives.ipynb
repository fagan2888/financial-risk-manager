{
 "cells": [
  {
   "cell_type": "markdown",
   "metadata": {},
   "source": [
    "# Introduction to Derivatives\n",
    "This notebook provides an overview of derivatives markets. Derivatives are financial contracts traded in private **over-the-counter (OTC)** markets or on **organized exchanges**. As the term implies, derivatives derive their value from some underlying index, typically the price of an asset. Depending on the type of relationship, they can be broadly classified into two categories: linear and nonlinear instruments.\n",
    "\n",
    "To the first category belong forward rate agreements (FRAs), futures, and swaps. Their value is a linear function of the underlying index. These are obligations to exchange payments according to a specified schedule. Forward contracts involve one payment and are relatively simple to evaluate. So are futures, which are traded on exchanges. Swaps involve a series of payments and generally can be reduced to portfolios of forward contracts. To the second category belong options, whose value is a nonlinear function of the underlying index.\n",
    "\n",
    "* [Derivatives Markets](#derivatives-markets)"
   ]
  },
  {
   "cell_type": "markdown",
   "metadata": {},
   "source": [
    "## <a name=\"derivatives-markets\">Derivatives Markets</a>\n",
    "### Definitions\n",
    "A **derivative instrument** can be generally defined as a private contract whose value derives from some underlying asset price, reference rate, or index - such as a stock, bond, currency, or commodity. In addition, the contract must also specify a principal, or **notional** amount, which is defined in terms of currency, shares, bushels, or some other unit. Movements in the value of the derivative depend on the notional and on the underlying price or index.\n",
    "\n",
    "In contrast with **securities**, such as stocks and bonds, which are issued to raise capital, derivatives are **contracts**, or private agreements between two parties. Thus the sum of gains and losses on derivatives contracts must be zero. For any gain made by one party, the other party must have suffered a loss of equal magnitude.\n",
    "\n",
    "In contrast with **securities**, such as stocks and bonds, which are issued to raise capital, derivatives are **contracts**, or private agreements between two parties. Thus the sum of gains and losses on derivatives contracts must be zero. For any gain made by one party, the other party must have suffered a loss of equal magnitude.\n",
    "\n"
   ]
  },
  {
   "cell_type": "markdown",
   "metadata": {},
   "source": [
    "### Size of Derivatives Markets\n",
    "At the broadest level, derivatives markets can be classified by the underlying instrument, as well as by the type of trading.\n",
    "\n",
    "The table shows that interest rate contracts, especially swaps, are the most widespread type of derivatives. On the OTC market, currency contracts are also widely used, especially outright forwards and **forex swaps**, which are a combination of spot and short-term forward transactions. Among exhange-traded instruments, interest rate futures and options are the most common.\n",
    "\n",
    "Notional amounts give an indicaton of equivalent positions in cash markets. For example, a long futures contract on a stock index with a notional of $\\$1$ million is equivalent to a cash position in the stock market of the same magnitude. They are also important because they drive the fees to the financial industry, which are typically set as a fraction of the notionals."
   ]
  },
  {
   "cell_type": "markdown",
   "metadata": {},
   "source": [
    "### Trading Mechanisms\n",
    "\n",
    "Derivatives can be traded in private decentralized markets, called **over-the-counter (OTC)** markets, or on **organized exchanges**. Trading OTC is generally done with a **derivatives dealer**, which is a specially organized firm, usually associated with a major financial institution, that buys and sells derivatives.\n",
    "\n",
    "A major issue when dealing with derivatives is **counterparty risk**. A counterparty is defined as the opposite side of a financial transaction. Suppose that Bank A entered a derivative contract with Hedge Fund B, where A agrees to purchase the euro by selling dollars ar a fixed price of $\\$1.3$. If the euro goes up, the contract moves in-the-money for A. However, this means that B suffers a loss. If this loss is large enough, B could default. Hence, this contract creates credit risk. \n",
    "\n",
    "Derivatives dealers manage their counterparty risk through a variety of means. Even so, these potential exposures are a major concern. This explains why American International Group (AIG) was rescued by the U.S. government. AIG had sold credit default swaps (CDSs) to many other institutions, and its failure could have caused domino effects for other banks.\n",
    "\n",
    "Counterparty risk can be addressed with a **clearinghouse**. A clearinghouse is a financial institution that provides settlement and clearing services for financial transactions that may have taken place on an organized exhange or OTC."
   ]
  }
 ],
 "metadata": {
  "kernelspec": {
   "display_name": "Python 3",
   "language": "python",
   "name": "python3"
  },
  "language_info": {
   "codemirror_mode": {
    "name": "ipython",
    "version": 3
   },
   "file_extension": ".py",
   "mimetype": "text/x-python",
   "name": "python",
   "nbconvert_exporter": "python",
   "pygments_lexer": "ipython3",
   "version": "3.7.3"
  }
 },
 "nbformat": 4,
 "nbformat_minor": 2
}
