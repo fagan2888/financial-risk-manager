{
 "cells": [
  {
   "cell_type": "markdown",
   "metadata": {},
   "source": [
    "# Risk Management\n",
    "Financial risk management is the process by which financial risks are identified, assessed, measured in order to create economic value.\n",
    "\n",
    "Two main ideas of centralized risk management tools include:\n",
    "1. Risk should be measured at the top level of the institution or the portfolio.\n",
    "2. Risk should be measured on a forward-looking basis, using the current positions.\n",
    "\n",
    "Topics discussed in this notebook include:\n",
    "- [Risk Measurement](#risk_management)\n",
    "- [Evaluation of the Risk Management Process](#evaluation_of_the_risk_management_process)\n",
    "- [Portfolio Construction](#portfolio_construction)\n",
    "- [Asset Pricing Theories](#asset_pricing_theories)\n",
    "- [Value of Risk Management](#value_of_risk_management)"
   ]
  },
  {
   "cell_type": "markdown",
   "metadata": {},
   "source": [
    "## <a name=\"risk_management\">Risk Measurement</a>"
   ]
  },
  {
   "cell_type": "markdown",
   "metadata": {},
   "source": [
    "The key issue is whether the expected profit for the portfolio warrants the assumed risk. To help answer this question, the risk manager should construct the distribution of potential profits and losses on this investment. This shows how much the portfolio can lose, thus enabling the investor to make investment decisions.\n",
    "\n",
    "Define $\\Delta P$ as the profit or loss for the portfolio over a fixed horizon, say the coming month. This must be measured in a **risk currency**, such as the dollar. This is also the product of the initial investment value $P$ and the future rate of return $R_{P}$. The latter is a random variable, which should be described using its **probability density function**. The distribution can be described by:\n",
    "- The **mean**, or average return: $\\mu(R_{P})$, or $\\mu_{P}$ in short, or even $\\mu$ when there is no other asset.\n",
    "- The **standard deviation**, often called volatility and is a measure of dispersion around the mean: $\\sigma$, the square root of the portfolio variance, $\\sigma^{2}$.\n",
    "- The **value at risk ($VAR$)**, which is the cutoff point such that there is a low probability of a greater loss, also the percentile of the distribution based on some confidence level."
   ]
  },
  {
   "cell_type": "markdown",
   "metadata": {},
   "source": [
    "### Absolute risk\n",
    "**Absolute risk** is measured in terms of shortfall relative to the inital value of the investment, or perhaps an investment in cash. Using the standard deviation as the risk measurement, absolute risk in dollar terms is \n",
    "\n",
    "$ \\sigma(\\Delta P) = \\sigma(\\Delta P / P)\\times P = \\sigma(R_P)\\times P$\n",
    "\n",
    "### Relative risk\n",
    "\n",
    "**Relative risk** is measured relative to a benchmark index $B$. The deviation is $e = R_{P} - R_{B}$, which is also known as the **tracking error**. In dollar terms, this is $e \\times P$. The risk is\n",
    "\n",
    "$ \\sigma(e)P = [\\sigma(R_{P} - R_{B})] \\times P = \\omega \\times P$\n",
    "\n",
    "where $\\omega$ is called **tracking error volatility ($TEV$)**."
   ]
  },
  {
   "cell_type": "markdown",
   "metadata": {},
   "source": [
    "## <a name=\"#evaluation_of_the_risk_management_process\">Evaluation of the Risk Management Process</a>\n",
    "The role of risk management involves several tasks:\n",
    "- Identifying all risks faced by the firm\n",
    "- Assessing and monitoring those risks\n",
    "- Managing those risks if given the authority to do so\n",
    "- Communicating these risks to the decision makers\n",
    "\n",
    "A major function of the risk measurement process is to estimate the distribution of future profits and losses. The scale of the dollar returns should be proprtional to the initial investment, but the part of constructing the distribution of future rates of return is much difficult.\n",
    "\n",
    "How do we evaluate the quality of a risk management process? The occurrence of a large loss does not mean that risk management has failed. How can we tell whether the loss is due to bad luck or a flaw in the risk model?\n",
    "\n",
    "It's useful to classify risks into 3 categories as follows:\n",
    "\n",
    "### Known knowns\n",
    "This category consists of risks that are properly identified and measured. Losses can still occur due to a combination of bad luck and portfolio decisions. Such losses, however, should not happen too often. If VAR at the 99% level of confidence is reported as 14.4%. Under this conditions, a string of consecutive losses of 15% or more several months in a row should be highly unusual. If this were to happen, it would be an indication of a flawed model.\n",
    "\n",
    "### Known unknowns\n",
    "This category includes model weaknesses that are known or should be known to exist but are not properly measured by risk managers. For example, the risk manager could have ignored important known risk factors. Second, the distribution of risk factors, including volatilities and correlations, could be measured inaccurately. Third, the mapping process, which consists of replacing positions with exposures on the risk factors, could be incorrect. This is typically called **model risk**. Such risks can be evaluated using stress tests, which shock financial variables or models beyond typical ranges.\n",
    "\n",
    "Another form of known unknown is **liquidity risk**. Most risk models assume that the position can be liquidated over the selected horizon. In practice, this depends on a number of factors. First is the intrinsic liquidity of the asset. Treasury bills, for instance, are much more liquid than high-yield bonds. They trade at a lower spread and with less market impact. Second is the size of the position. This is especially a problem when the position is very large relative to normal trading activity, which would require accepting a large price drop to execute the trade.\n",
    "\n",
    "### Unknown unknowns\n",
    "Events are totally outside the scope of most scenarios. Examples include regulatory risks such as the sudden restrictions on short sales. \n",
    "\n",
    "Similarly, it is difficult to account fully for counterparty risk. It's not enough to know your counterparty; you need to know your counterparty's counterparties, too. In other words, there are network externalities. Understanding the full consequences of Lehman's failure would have required information on the entire topology of the financial network. Because no individual firm has access to this information, this contagion risk cannot be measured directly.\n",
    "\n",
    "Some form of liquidity risk is very difficult to assess. This involves the activity and positions of similar traders, which are generally unknown. In illiquid markets, a forced sale will be much more expensive if a number of similar portfolios are sold at the same time.\n",
    "\n",
    "This category is sometimes called Knightian **uncertainty**, a form of risk that is immeasurable. Financial institutions cannot possibly carry enough capital to withstand massive counterparty failures, or systemic risk. In such situations, the central bank or the government becomes effectively the risk manager of last resort."
   ]
  },
  {
   "cell_type": "markdown",
   "metadata": {},
   "source": [
    "## <a name=\"portfolio_construction\">Portfolio Construction</a>\n",
    "The portfolio construction process involves combining expected return and risk.\n",
    "### Compare multiple assets\n",
    "For example, risk and expected return on two assets:\n",
    "\n",
    "| Assets          | Average | Volatility | Correlation |\n",
    "|-----------------|---------|------------|-------------|\n",
    "| Equities        | 11.2%   | 19.2%      |             |\n",
    "| Long-term bonds | 5.6%    | 8.1%       | 0.13        |"
   ]
  },
  {
   "cell_type": "markdown",
   "metadata": {},
   "source": [
    "### Risk-adjusted performance measurement\n",
    "How the performance can be adjusted for risk in a single measure. The same methods apply to past performance, using historical averages, or perspective performance, using projected numbers.\n",
    "\n",
    "The simplest metric is the **Sharpe ratio ($SR$)**, which is the ratio of the average rate of return, $\\mu(R_{P})$, in excess of the risk-free rate $R_{F}$, to the absolute risk:\n",
    "\n",
    "$SR = \\frac{\\mu(R_{P}) - R_{F}}{\\sigma(R_{P})} $\n",
    "\n",
    "The Sharpe ratio focues on total risk measured in absolute terms. This approach can be extended to include $VAR$ in the denominator instead of the volatility of returns.\n",
    "\n",
    "The **information ratio ($IR$)** is the ratio of the average rate of return of portfolio $P$ in excess of the benchmark $B$ to the $TEV$:\n",
    "\n",
    "$IR = \\frac{\\mu(R_{P}) - \\mu(R_{B})}{\\sigma(R_{P}) - R_{B}}$\n",
    "\n",
    "The $TEV$ can be derived from:\n",
    "\n",
    "$\\omega^{2} = \\sigma^{2}_{P} - 2\\rho\\sigma_{P}\\sigma_{B} + \\sigma^{2}_{B}$\n",
    "\n",
    "For example, if the correlation $\\rho = 0.961$: \n",
    "\n",
    "| Assets        | Average                          | Volatility | Performance                                     |\n",
    "|---------------|----------------------------------|------------|-------------------------------------------------| \n",
    "| Cash          | $3\\%$                            | $0\\%$                                                                                                       |                                                 |\n",
    "| Portfolio $P$ | $-6\\%$                           | $25\\%$                                                                                                       | $SR = -0.36$ from $[(-6\\%) - 3\\%]/25\\% = -0.36$ |\n",
    "| Benchmark $B$ | $-10\\%$                          | $20\\%$                                                                                                       | $SR = -0.65$                                    |\n",
    "| Deviation $e$ | 4% from $(-6\\%) - (-10\\%) = 4\\%$ | $8\\%$ from $\\omega^{2} = 25\\%^{2} - 2 \\times 0.961 \\times 25\\% \\times 20\\% + 20\\%^{2} = 0.0064,\\omega = 8\\%$ | $IR = 0.50$ from $[(-6\\%) - (10\\%)]/8\\% = 0.5$  |\n",
    "\n",
    "The relative performance is good even though the absolute performance is poor. \n",
    "\n",
    "One of the drawback of the information ratio is that the $TEV$ does not adjust for average returns. For instance, a portfolio could be systematically above its benchmark by $0.10\\%$ per month. In this case, the tracking error has an average of $0.10\\%$ and a standard deviation close to zero. This leads to a very high information ratio, which is not realistic if the active risk cannot be scaled easily."
   ]
  },
  {
   "cell_type": "markdown",
   "metadata": {},
   "source": [
    "### Mixing assets\n",
    "Define $w_{i}$ as the weight placed on asset $i$. With full investment, we must have $\\Sigma^{N}_{i=1} w_{i} = 1$, where $N$ is the total number of assets. In other words, the portfolio weights must sum to 1.\n",
    "\n",
    "Start with a portfolio fully invested in bonds, represented by $w_{1} = 1.00$, $w_{2} = 0.00$. As we shift the weight to stocks, we can trace a line that represents the risk and expected return of the portfolio mix. Eventually, this moves to the stock-only position, $w_{1} = 0.00$, $w_{2} = 1.00$. This is an example of **asset allocation** problem, where the investor has to decide how much to allocate across asset classes.   \n",
    "\n",
    "The shape of this line depends on the correlation coefficient, $\\rho$, which measures the extent to which the two assets comove with each other.\n",
    "\n",
    "The portfolio volatility, which is the square root of the variance, is a nonlinear function of the weights.\n",
    "\n",
    "$\\sigma^{2}_{P} = w^{2}_{1}\\sigma^{2}_{1} + 2w_{1}w_{2}(\\rho\\sigma_{1}\\sigma_{2}) + \\sigma^{2}_{2}\\sigma^{2}_{2}$\n",
    "\n",
    "In contrast, the portfolio expected return is a simple linear average:\n",
    "\n",
    "$\\mu_{P} = w_{1}\\mu_{1} + w_{2}\\mu_{2}$\n",
    "\n",
    "For example, if the correlation $\\rho = 1$ (straight line between the two assets), consider the mix of $77\\%$ bonds and $23\\%$ stocks, we have\n",
    "\n",
    "$\\mu_{P} = 0.77 \\times 5.6 + 0.23 \\times 11.2 = 6.9\\%$\n",
    "\n",
    "and \n",
    "\n",
    "$\\sigma^{2}_{P} = 0.77^{2} 8.1^{2} + 2 \\times 0.77 \\times 0.23(1 \\times 8.1 \\times 19.2) + 0.23^{2}19.2^{2} = 113.49$\n",
    "\n",
    "$\\sigma_{P} = 0.77 \\times 8.1 + 0.23 \\times 19.2 = 10.65$\n",
    "\n",
    "Consider the case where the correlation is $0.13$. The portfolio mix then has a volatility of $8.1\\%$. This portfolio has the same volatility as bonds, yet better performance. The mix has expected return of $6.9\\%$, against the $5.6\\%$ for bonds, which is an improvement of $1.4\\%$. This demonstrates the power of diversification.\n",
    "\n",
    "Finally, consider a hypothetical case where the correlation is $-1$. In this case, the variance drops to $3.32$ and the volatility to $1.8\\%$. This illustrate the important point the low correlations help to decrease portfolio risk (at least when the portfolio weights are positive)."
   ]
  },
  {
   "cell_type": "markdown",
   "metadata": {},
   "source": [
    "### Efficient portfolios\n",
    "Consider a more general problem, which is that of diversification across a large number of stocks, for example $N = 500$ stocks within the S&P 500 index.\n",
    "\n",
    "The starting point is the assumption that all assets follow a jointly normal distribution. If so, the entire distribution of portfolio returns can be summarized by two parameters only, the mean and the variance. \n",
    "\n",
    "To solve the diversification problem, all that is needed is the identification of the **efficient set** in this mean-variance space (more precisely, mean-standard deviation). More formally, each portfolio, defined by a set of weights ${w}$, is such that, for a specified value of expected return $\\mu_{P}$, the risk is minimized:\n",
    "\n",
    "$Min_{w}\\sigma^{2}_{P}$\n",
    "\n",
    "subject to a number of conditions: \n",
    "- The portfolio return is equal to a specified value $k$. \n",
    "- The portfolio weights sum to 1.\n",
    "Changing this specified value $k$ traces out the efficient set.\n",
    "\n",
    "When there are no short-sale restrictions on portfolio weights, a closed-form solution exists for the efficient set. Any portfolio is a linear combination of two portfolio. The first is the global **minimum-variance portfolio**, which has the lowest volatility across all fully invested portfolios. The second is the portfolio with the highest Sharpe ratio."
   ]
  },
  {
   "cell_type": "markdown",
   "metadata": {},
   "source": [
    "## <a name=\"asset_pricing_theories\">Asset Pricing Theories</a>"
   ]
  },
  {
   "cell_type": "markdown",
   "metadata": {},
   "source": [
    "### Capital asset pricing model (CAPM)\n",
    "The first step of $CAPM$ is simlifying the covariance structure of stocks with a one-factor model. Define $R_{i,t}$ as the return on stock $i$ during month $t$, $R_{F, t}$ as the risk-free rate, and $R_{M, t}$ as the market return. Then run a regression of the excess return for $i$ on the market across time:\n",
    "\n",
    "$R_{i, t} - R_{F, t} = \\alpha_{i} + \\beta_{i}[R_{M, t} - R_{F, t}] + \\epsilon_{i, t}$\n",
    "\n",
    "$t = 1, ..., T$\n",
    "\n",
    "The slope coefficient, $\\beta_{i}$, measuring the exposure of $i$ to the market factor, is known as **systematic risk**. The intercept is $\\alpha_{i}$. For an actively managed portfolio $\\alpha$ is a measure of management skill. Finally, $\\epsilon_{i}$ is the residual, which has mean zero and is uncorrelated to $R_{M}$ by construction and to all other residuals by assumption.\n",
    "\n",
    "This is a one-factor model because any interactions between stocks are due to their exposure to the market. To simplify, ignore the risk-free rate and $\\alpha$, which is constant anyway. We now examine the covariance between two stocks, $i$ and $j$. This is a measure of the comovements between two random variables:\n",
    "\n",
    "$Cov(R_{i},R_{j}) = Cov(\\beta_{i}R_{M} + \\epsilon_{i}, \\beta_{j}R_{M} + \\epsilon_{j}) \\\\\n",
    "= \\beta_{i}\\beta_{j}Cov(R_{M},R_{M}) + \\beta_{i}Cov(R_{M},\\epsilon_{j}) +\\beta_{j}Cov(R_{M},\\epsilon_{i}) + Cov(\\epsilon_{i},\\epsilon_{j}) \\\\\n",
    "= \\beta_{i}\\beta_{j}\\sigma^{2}(R_{M})$ \n",
    "\n",
    "because all $\\epsilon$ are uncorrelated with $R_{M}$ and with each other. Hence, the asset-specific risk, or $\\epsilon$, is called **idiosyncratic**.\n",
    "\n",
    "Such simplified factor structure is extremely useful because it cuts down the number of parameters. With $100$ assets, there are in theory $N(N - 1)/2 = 4,950$ different pairwise covariances. In contrast, the factor structure involves only $100$ parameters, the $\\beta_{i}$, plus the variance of the market. \n",
    "\n",
    "This type of approximation lies at the heart of **mapping**, a widely used process in risk management. Mapping replaces individual postions by a smaller number of exposures on fundamental risk factors.\n",
    "\n",
    "If the total demand for each asset, as derived from the investors' portfolio optimization, match exactly the outstanding supply of assets (i.e., the issued shares of equities), the total demand can be aggregated because investors are assumed to have homogeneous expectations about the distribution of rates of return, which is also assumed normal. In addition, the model assumes the existence of a risk-free asset, which can be used for burrowing or lending, at the same rate. As is usual in most economic models, capital markets are assumed perfect. That is, there are no transaction costs, securities are infinitely divisible, and short sales are allowed.\n",
    "\n",
    "Under these conditions, the market portfolio, defined as the value-weighted average of all stocks in the portfolio, must have the highest Sharpe ratio of any feasible portfolio. Hence, it must be mean-variance efficient. \n",
    "\n",
    "The line joining the risk-free asset $F$ to the market portfolio $M$ has the highest Sharpe ratio of any portfolio on the efficient frontier. This line is also known as the **capital market line (CML)**. It dominates any combination of cash and stock investment.\n",
    "\n",
    "Portfolios located between $F$ and $M$ have a positive fraction allocated to each. Investors that are very risk-averse would hold a mix closer to $F$. Risk-tolerant investors would choose portfolios closer to, or even higher than, the market $M$. Portfolios above $M$ represent a levered position in the market (i.e., borrowing at the risk-free rate and reinvesting the proceeds in the stock market). \n",
    "\n",
    "Even so, all investors should hold the same relative proportion of stocks. For instance, Exxon accounts for about $4\\%$ of the market. According to the $CAPM$, all investors should hold $4\\%$ of their stock portfolio, whether small or large, in Exxon.\n",
    "\n",
    "The concept of **two-fund separation** says any efficient portfolio must be on the straight line and hence can be separate into two funds, the risk-free asset and the market.\n",
    "\n",
    "The mean-variance efficiency of the market implies a linear relationship between expected excess returns and the systematic risk of all stocks in the market portfolio. For any stock $i$, we must have\n",
    "\n",
    "$E(R_{i}) = R_{F} + \\beta_{i}[E(R_{M}) - R_{F}]$\n",
    "\n",
    "This required rate of return on equity can also be viewed as the cost of equity capital. In other words, the $\\alpha_{i}$ term should all be zero. This explain why for an actively managed portfolio $\\alpha$ is commonly used term to measure skill.\n",
    "\n",
    "This theory says that investors can easily diversify their portfolios. Most idiosyncratic risk washes away. In contrast, systematic risk cannot be diversified.\n",
    "\n",
    "This leads to an alternative measure of performance, which is the **Treynor ratio (TR)**, defined as\n",
    "\n",
    "$TR = \\frac{[\\mu(R_{P}) - R_{F}]}{\\beta_{P}}$\n",
    "\n",
    "If the CAPM holds, this ratio should be the same for all assets. The $TR$ penalizeds for high $\\beta$, as opposed to the $SR$, which penalizes for high $\\sigma$. For an investor with a portfolio similar to the market, $\\beta$ measures the contribution to the risk of the portfolio. Hence, this is a better performance measure for well-diversified portfolios. Therefore, a major drawback of the $SR$ and $IR$ is that they don't penalize for systematic risk.\n",
    "\n",
    "Suppose an active investment manager claims to add value for portfolio $P$. The observed average excess return is $\\mu(R_{P}) - R_{F}$. Some of this, however, may be due to market $\\beta$. The proper measure of performance is then **Jensen's alpha**:\n",
    "\n",
    "$\\alpha_{P} = \\mu(R_{P}) - R_{F} - \\beta_{P}[\\mu(R_{M}) - R_{F}]$\n",
    "\n",
    "For a fixed portfolio, if all stocks were priced according to the $CAPM$, the portfolio $\\alpha$ should be zero (actually it should be negative if one accounts for management fees and other costs).\n",
    "\n",
    "In summary, the $CAPM$ assumes that \n",
    "1. Investors have homogeneous expectations.\n",
    "2. Distributions are normal.\n",
    "3. Capital markets are perfect.\n",
    "4. Markets are in equilibrium.\n",
    "\n",
    "The difficulty is that in theory, the market portfolio should contain all investible assets worldwide. As a result, it is not observable."
   ]
  },
  {
   "cell_type": "markdown",
   "metadata": {},
   "source": [
    "### Arbitrage pricing theory (APT)\n",
    "The $CAPM$ specification starts from a single-factor model. This can be generalized to multiple factors. The first step is to postulate a risk structure where movements in asset returns are due to multiple sources of risk. \n",
    "\n",
    "With $K$ factors\n",
    "\n",
    "$R_{i} = \\alpha_{i} + \\beta_{i1y1} + ... + \\beta_{iKyK} + \\epsilon_{i}$\n",
    "\n",
    "The residuals $\\epsilon$ are assumed to be uncorrelated with the factors by construction and with each other by assumption. \n",
    "\n",
    "The $APT$ relies on such a factor structure and the assumption that there is no arbitrage in financial markets. Formally, portfolios can be constructed that are well-diversified and have little risk. To prevent arbitrage opportunities, these portfolios should have zero expected returns. These condition force a linear relationship between expected returns and the factor exposures:\n",
    "\n",
    "$E[R_{i}] = R_{F} + \\Sigma^{K}_{k=1}\\beta_{ik}\\lambda_{k}$\n",
    "\n",
    "where $\\lambda_{k}$ is the market price of factor $k$.\n",
    "\n",
    "For example,\n",
    "\n",
    "| stocks | $beta$ | expected returns | portfolio     |\n",
    "|--------|--------|------------------|---------------| \n",
    "| A      | $0.5$  | $6\\%$            | long $50\\%$   |\n",
    "| B      | $1.0$  | $8\\%$            | short $100\\%$ |\n",
    "| C      | $1.5$  | $12\\%$           | long $50\\%$   |\n",
    "\n",
    "The portfolio $\\beta$ is $50\\% \\times 0.5 + 50\\% \\times 1.5 - 100\\% \\times 1.0 = 0$. This portfolio has no initial investment but no risk and therefore should have expected return of zero. However, computing the expected return gives $50\\% \\times 6\\% + 50\\% \\times 12\\% - 100\\% \\times 8\\% = +1\\%$. This would create an arbitrage opportunity, which must be ruled out. These three expected returns are inconsistent with the $APT$. From A and C, we have $R_{F} = 3\\%$ and $\\lambda_{1} = 6\\%$. As a result, the $APT$ return on B should be $E[R_{i}] = R_{F} + \\beta_{i1}\\lambda_{1} = 3\\% + 1.0 \\times 6\\% = 9\\%$.\n",
    "\n",
    "$APT$ requires only that the residual risk is very small. This must be the case if a sufficient number of common factors is identified and in a well-diversified portfolio, also called **highly granular**.\n",
    "\n",
    "Several approaches to the selection of factors are possible:\n",
    "1. Structural approach: prespecify factors from economic intuition or experience. For example, factors such as value, size, and momentum have been widely used to explain expected stock returns.\n",
    "2. Statistical approach: extracts the factors from the observed data. For example, **principal component analysis (PCA)** is a technique that provides the best fit to the correlation matrix of asset returns. "
   ]
  },
  {
   "cell_type": "markdown",
   "metadata": {},
   "source": [
    "## <a name=\"value_of_risk_management\">Value of Risk Management</a>"
   ]
  },
  {
   "cell_type": "markdown",
   "metadata": {},
   "source": [
    "### Irrelevance of risk management\n",
    "The $CAPM$ says that investors can diversify nonsystematic risks. Hence, systematic risk is the only risk that needs to be priced.\n",
    "\n",
    "Companies could use financial derivatives to hedge their volatility. However, if this changes the volatility but not the market $/beta$, the company's cost of capital and hence valuation cannot be affected. \n",
    "\n",
    "The classical Modigliani and Miller ($MM$) theorem says the value of a firm cannot depend on its financial policies."
   ]
  },
  {
   "cell_type": "markdown",
   "metadata": {},
   "source": [
    "### Relevance of risk management\n",
    "The MM theorem is based on a number of assumptions: there are no frictions such as financial distress costs, taxes, and access to capital markets; there is no asymmetry of information between financial market participants.\n",
    "\n",
    "In practice, risk management can add value if some of these assumptions do not hold true:\n",
    "- Hedging should increase value if it helps avoid a large cost of financial distress.\n",
    "- Corportate income taxes can be viewed as a form of friction.\n",
    "- Other friction arise when external financing is more costly than internally generated funds. Hedge helps avoid the **underinvestment problem**.\n",
    "- A form of information asymmetry is due to agency costs of managerial discretion.\n",
    "- Another form of information asymmetry arises when a large shareholder has expertise in the firm's business."
   ]
  }
 ],
 "metadata": {
  "kernelspec": {
   "display_name": "Python 3",
   "language": "python",
   "name": "python3"
  },
  "language_info": {
   "codemirror_mode": {
    "name": "ipython",
    "version": 3
   },
   "file_extension": ".py",
   "mimetype": "text/x-python",
   "name": "python",
   "nbconvert_exporter": "python",
   "pygments_lexer": "ipython3",
   "version": "3.5.2"
  }
 },
 "nbformat": 4,
 "nbformat_minor": 2
}
