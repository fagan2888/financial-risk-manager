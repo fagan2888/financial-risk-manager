{
 "cells": [
  {
   "cell_type": "markdown",
   "metadata": {},
   "source": [
    "# Option Markets\n",
    "This notebook turns to nonlinear derivatives, or options. Options account for a large part of the derivatives markets. On organized exchanges, options represent more than $\\$50$ trillion in derivatives outstanding. Over-the-counter-options add up to more than $\\$60$ trillion in notional amounts.\n",
    "\n",
    "Although the concept behind these instruments is not new, option markets have blossomed since the early 1970s, because of a breakthrough in pricing options (the Black-Scholes formula) and advanced in computing power. We start with **plain-vanilla** options: calls and puts. These are the basic building blocks of many financial instruments. They are also more common than complicated, **exotic** options."
   ]
  },
  {
   "cell_type": "markdown",
   "metadata": {},
   "source": [
    "## Option Payoffs\n",
    "### Basic Options\n",
    "**Options** are instruments that give their holder the right to buy or sell an asset at a specified price until a specified expiration date. The specified delivery price is known as the **delivery price**, or **exercise price**, or **strike price**, and is denoted by $K$.\n",
    "\n",
    "Options to buy are **call options**. Options to sell are **put options**. As options confer a right to the purchaser of the option, but not an obligation, they will be exercised only if they generate profits. In contrast, forwards involve an obligation to either buy or sell and can generate profits or losses. Like forward contracts, options can be purchased or sold. In the latter case, the seller is said to **write** the option.\n",
    "\n",
    "Depending on the timing of exercise, options can be classified into European or American options. **European options** can be exercised at any time, before or at maturity. Because American options include the right to exercise at maturity, they must be at least as valuable as European options. In practice, however, the value of this early exercise feature is small, as an investor can generally receive better value by reselling the option on the open market instead of exercising it.\n",
    "\n",
    "We use these notations:\n",
    "\n",
    "$ K = $ exercise price\n",
    "$ c = $ value of European call option\n",
    "$ C = $ value of American call option\n",
    "$ p = $ value of European put option\n",
    "$ P = $ value of American put option\n",
    "\n",
    "The payoff profile of a long position in a call option at expiration is \n",
    "\n",
    "$C_{T} = Max(S_{\\tau} - K, 0)$\n",
    "\n",
    "The payoff profile of a long position in a put option is\n",
    "\n",
    "$P_{T} = Max(K - S_{\\tau}, 0)$\n",
    "\n",
    "If the current asset price $S_{t}$ is close to the strike price $K$, the option is said to be **at-the-money**. If the current asset price $S_{t}$ is such that the option could be exercised now at a profit, the option is said to be **in-the-money**. If the remaining situation is present, the option is said to be **out-of-the-money**. A call will be in-the-money if $S_{t} > K$. A put will be in-the-money if $S_{t} < K$.\n",
    "\n",
    "Because buying options can generate only profits (at worst zero) at expiration, an option contract must be a valuable asset (or at worst have zero value). This means that a payment is needed to acquire the contract. This up-front payment, which is much like an insurance premium, is called the option **premium**. This premium cannot be negative. An option becomes more expensive as it moves in-the-money.\n",
    "\n",
    "Thus the payoffs on options must take into account this cost (for long positions) or benefit (for short positions). To compute the total payoff, we should translate all option payoffs by the future value of the premium, that is, $ce^{r\\tau}$, for European call options.\n",
    "\n",
    "We summarize the payoff patterns on long and short positions in a call and a put contract. Unlike those of forwards, these payoffs are **nonlinear** in the underlying spot price. Sometimes they are referred to as the \"hockey stick\" diagrams. This is because forwards are obligations, whereas options are rights. Note that the positions for the same contract are symmetrical around the horizontal axis. For a given spot price, the sum of the profit or loss for the long and for the short is zero.\n",
    "\n",
    "It is obvious that long option positions have limited downside risk, which is the loss the premium. Short call option positions have unlimited downside risk because there is no upper limit on $S$. The worst loss on short put positions occurs if $S$ goes to zero.\n",
    "\n",
    "So far, we have covered options on cash instruments. Options can also be struck on futures. When exercising a call, the investor becomes long the futures contract. Conversely, exercising a put creates a short position in the futures contract. Because positions in futures are equivalent to leveraged positions in the underlying cash instrument, options on cash instruments and on futures are economically equivalent."
   ]
  },
  {
   "cell_type": "markdown",
   "metadata": {},
   "source": [
    "### Put-Call Parity\n",
    "These option payoffs can be used as the basic building blocks for more complex positions. A long position in the underlying asset can be decomposed into a long call plus a short put with the same strike prices and maturities.\n",
    "\n",
    "The long call provides the equivalent of the upside while the short put generates the same downside risk as holding the asset. This link creates a relationship between the value of the call and that of the put, also known as **put-call parity**. The relationship examines the payoff at initiation and at expiration under the two possible states of the world. We consider only European options which the same maturity and exercise price. Also, we assume that there is no income payment on the underlying asset.\n",
    "\n",
    "The portfolio consists of a long position in the call, a short position in the put, and an investment to ensure that we will be able to pay the exercise price at maturity. Long positions are represented by negative values, as they represent outflows, or costs.\n",
    "\n",
    "The table shows that the final payoffs to portfolio $(1)$ add up to $S_{T}$ in the two states of the world, which is the same as a long position in the asset itself. Hence, to avoid arbitrage, the initial payoff must be equal to the current cost of the asset, which is $S_{t} = S$. So, we must have $-c + p - Ke^{-r\\tau} = - S$. More generally, with income paid at the rate of $r^{*}$, put-call parity can be written as \n",
    "\n",
    "$c - p = Se^{-r^{*}\\tau} - Ke^{-r\\tau} = (F - K)e^{-r\\tau}$\n",
    "\n",
    "Because $c \\geq 0$ and $p \\geq 0$, this relationship can also be used to determine lower bounds for European calls and puts. Note that the relationship does not hold exactly for American options since there is a likelihood of early exercise, which could lead to mismatched payoffs.\n",
    "\n",
    "Finally, this relationship can be used to determine the **implied dividend yield** from market prices. We observe $c$, $p$, $S$, and $r$ and can solve for $y$ or $r^{*}$. This yield is used for determining the forward rate in **dividend swaps**, which are contracts where the payoff is indexed to the actual dividends paid over the horizon, minus the implied dividends.\n",
    "\n",
    "A long position in an asset is equivalent to a long position in a European call with a short position in an otherwise identical put, combined with a risk-free position."
   ]
  },
  {
   "cell_type": "markdown",
   "metadata": {},
   "source": [
    "### Combination of Options\n",
    "Options can be combined in different ways, either with each other or with the underlying asset. Consider first combinations of the underlying asset and an option. A long position in the stock can be accompanied by a short sale of a call to collect the optio premium. This operation is called a **covered call**. Likewise, a long position in the stock can be accompanied by a purchase of a put to protect the downside. This operation is called a **protective put**.\n",
    "\n",
    "Options can also be combined with an underlying position to limit the range of potential gains and losses. Suppose an investor is long a stock, currently trading at $\\$10$. The investor can buy a put with a low strike price (e.g., $\\$7$), partially financed by the sale of a call with high strike (e.g., $\\$12$). Ignoring the net premium, the highest potential gain is $\\$2$ and the worst loss is $\\$3$. Such a strategy is called a **collar**. If the strike prices were the same, this would be equivalent to a short stock position, which creates a net payoff of exactly zero.\n",
    "\n",
    "We can also combine a call and a put with the same or different strike prices and maturities. When the strike prices of the call and the put and their maturities are the same, the combination is referred to as a **straddle**. The below figure shows how to construct a long straddle (i.e., buying a call and a put with the same maturity and strike price). This position is expected to benefit from a large price move, whether up or down. The reverse position is a short straddle. When the strike prices are different, the combination is referred to as a **strangle**. Since strangles are out-of-the-money, they are cheaper to buy than straddles.\n",
    "\n",
    "Thus far, we have concentrated on positions involving two classes of options. One can, however, establish positions with one class of options, called **spreads**. Calendar or **horizontal spreads** correspond to different maturities. **Vertical spreads** correspond to different strike prices. The names of the spreads are derived from the manner in which they are listed in newspapers: time is listed horizontally and strike prices are listed vertically. **Diagonal spreads** move across maturities and strike prices.\n",
    "\n",
    "For instance, a **bull spread** is positioned to take advantage of an increase in the price of the underlying asset. Conversely, a **bear spread** represents a bet on a falling price. The figure shows how to construct a bull(ish) vertical spread with two calls with the same maturity. This could also be constructed with puts, however. Here, the spread is formed by buying a call option with a low exercise price $K_{1}$ and selling another call with a higher exercise price $K_{2}$. Note that the cost of the first call $c(S, K_{1})$ must exceed the cost of the second call $c(S, K_{2})$, because the first option is more in-the-memory than the second. Hence, the sum of the two premiums represents a net cose. At expiration, when $S_{T} > K_{2}$, the payoff is $Max(S_{T} - K_{1}, 0) - Max(S_{T} - K_{2}, 0) = (S_{T} - K_{1}) - (S_{T} - K_{2}) = K_{2} - K_{1}$, which is positive. Thus this position is expected to benefit from an up move, while incurring only limited downside risk.\n",
    "\n",
    "Spreads involving more than two positions are referred to as butterfly or sandwich spreads. A **butterfly spread** involves three types of options with the same maturity: for example, a long call at a strike price $K_{1}$, two short calls at a higher strike price $K_{2}$, and a long call position at a higher strike price $K_{3}$, with the same spacing, the figure shows that this position is expected to benefit when the underlying asset price stays stable, close to $K_{2}$. The double position in the middle is called the body, and the others the wings. A sandwich spread is the opposite of a butterfly spread."
   ]
  },
  {
   "cell_type": "markdown",
   "metadata": {},
   "source": [
    "## Option Premiums\n",
    "### General Relationships\n",
    "So far, we have examined the payoffs at expiration only. Also important is the instantaneous relationship between the option value and the current price $S$.\n",
    "\n",
    "For a call, a higher price $S$ increases the current value of the option, but in a nonlinear, convex fashion. For a put, lower values for $S$ increase the value of the option, also in a convex fashion. As time goes by, the curved line approaches the hockey stick line.\n",
    "\n",
    "The figures decompose the current premium into:\n",
    "* An **intrinsic value**, which basically consists of the value of the option if exercised today, or $Max(S_{t} - K, 0)$ for a call and $Max(K - S_{t}, 0)$ for a put\n",
    "* A **time value**, which consists of the remainder, reflecting the possibility that the option will create further gains in the future\n",
    "\n",
    "Options can be classified into:\n",
    "* **At-the-money**, when the current spot price is close to the strike price\n",
    "* **In-the-money**, when the intrinsic value is large\n",
    "* **Out-of-the-money**, when the spot price is much below the strike price for calls and conversely for puts (out-of-the-money options have zero intrinsic value)\n",
    "\n",
    "We can also identify some general bounds for European options that should always be satisfied; otherwise there would be an arbitrage opportunity (i.e., a money machine). For simplicity, assume there is no dividend. We know that a European option is worth less than an American option. First, the current value of a call must be less than, or equal to, the asset price:\n",
    "\n",
    "$c_{t} \\leq C_{t} \\leq S_{t}$\n",
    "\n",
    "This is because, in the limit, an option with zero exercise price is equivalent to holding the stock in this case. We are sure to exercise the option.\n",
    "\n",
    "Second, the value of a European call must be greater than, or equal to, the price of the asset minus the present value of the strike price:\n",
    "\n",
    "$c_{t} \\geq S_{t} - Ke^{-r\\tau}$\n",
    "\n",
    "To prove this, we could simply use put-call parity, or with $r^{*} = 0$, imposing the condition that $p \\geq 0$. Note that, since $e^{-r\\tau} < 1$, we must have $S_{t} - Ke^{-r\\tau} > S_{t} - K$ before expiration. Thus $S_{t} - Ke^{-r\\tau}$ is a more informative lower bound than $S_{t} - K$.\n",
    "\n",
    "We can also describe upper and lower bounds for put options. The value of a put cannot be worth more than $K$:\n",
    "\n",
    "$p_{t} \\leq P_{t} \\leq K$\n",
    "\n",
    "which is the upper bound if the price falls to zero. Using put-call parity, we can show that the value of a European put must satisfy the following lower bound:\n",
    "\n",
    "$p_{t} \\geq Ke^{-r\\tau} - S_{t}$"
   ]
  },
  {
   "cell_type": "markdown",
   "metadata": {},
   "source": [
    "### Early Exercise of Options\n",
    "These relationships can be used to assess the value of early exercise for American options. The basic trade-off arises between the value of the American option **dead**, that is, exercised, or **alive**, that is, nonexercised. Thus, the choice is between exercising the option and selling it on the open market.\n",
    "\n",
    "Consider an American call on a non-dividend-paying stock. By exercising early, the holder gets exactly $S_{t} - K$. The value of the option alive, however, must be worth more than that of the equivalent European call. This must satisfy $c_{t} \\geq S_{t} - Ke^{-r\\tau}$, which is strictly greater than $S_{t} - K$ because $e^{-r\\tau} < 1$ with positive interest rates. Hence, an American call on a non-dividend-paying stock should never be exercised early.\n",
    "\n",
    "The only reason to exercise a call early is to capture a dividend payment. Intuitively, a high income payment makes holding the asset more attractive than holding the option. Thus American options on income-paying assets may be exercised early. Note that this applies also to options on futures, since the implied income stream on the underlying is the risk-free rate.\n",
    "\n",
    "An American call option on a non-dividend-paying stock (or asset with no income) should never be exercised early. If the asset pays income, early exercise may occur, with a probability that increases with the size of the income payment.\n",
    "\n",
    "For an American put, we must have \n",
    "\n",
    "$P_{t} \\geq K - S_{t}$\n",
    "\n",
    "because it could be exercised now. Unlike the relationship for calls, this lower bound $K - S_{t}$ is strictly greater than the lower bound for European puts $Ke^{-r\\tau} - S_{t}.$ So, we could have early exercise.\n",
    "\n",
    "To decide whether to exercise early, the holder of the option has to balance the benefit of exercising, which is to receive $K$ now instead of later, against the loss of killing the time value of the option. Because it is better to receive money now than later, it may be worth exercising the put option early.\n",
    "\n",
    "Thus, American puts on non-income-paying assets could be exercised early, unlike calls. The probability of early exercise decreases for lower interest rates and with higher income payments on the asset. In each case, it becomes less attractive to sell the asset.\n",
    "\n",
    "An American put option on a non-dividend-paying stock (or asset with no income) may be exercised early. If the asset pays income, the possibility of early exercise decreases with the size of the income payments."
   ]
  },
  {
   "cell_type": "markdown",
   "metadata": {},
   "source": [
    "## Valuing Options"
   ]
  }
 ],
 "metadata": {
  "kernelspec": {
   "display_name": "Python 3",
   "language": "python",
   "name": "python3"
  },
  "language_info": {
   "codemirror_mode": {
    "name": "ipython",
    "version": 3
   },
   "file_extension": ".py",
   "mimetype": "text/x-python",
   "name": "python",
   "nbconvert_exporter": "python",
   "pygments_lexer": "ipython3",
   "version": "3.7.3"
  }
 },
 "nbformat": 4,
 "nbformat_minor": 2
}
