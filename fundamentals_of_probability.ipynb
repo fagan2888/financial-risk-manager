{
 "cells": [
  {
   "cell_type": "markdown",
   "metadata": {},
   "source": [
    "# Fundamentals of Probability"
   ]
  },
  {
   "cell_type": "markdown",
   "metadata": {},
   "source": [
    "The preceding notebook shows how a risk manager can characterize the risk of a portfolio using a frequency distribution. This process uses the tools of probability, a mathematical abstraction that constructs the distribution of random variable. These random variables are financial risk factors, such as movements in stock prices, in bond prices, in exchange rates, and in commodity prices. These risk factor are then transformed into profits and losses on the portfolio, which can be described by a probability distribution function.\n",
    "\n",
    "Table of contents:\n",
    "- [Characterize Random Variables](#characterize_random_variables)\n",
    "- [Multivariate Distribution Functions](#multivariate_distribution_functions)"
   ]
  },
  {
   "cell_type": "markdown",
   "metadata": {},
   "source": [
    "## <a name=\"characterize_random_variables\">Characterize Random Variables</a>\n",
    "The classical approach to probability is based on the concept of the **random variable ($RV$)**. This can be viewed as the outcome from throwing a die. Each realization is generated from a fixed process. If the die is perfectly symmetrical, with six-faces, we could say that the probability of observing a face with a specified number in one throw is $p = 1/6$.\n",
    "### Univariate distribution functions\n",
    "For example, a random variable $X$ is characterized by a **distribution function**, \n",
    "\n",
    "$F(x) = P(X \\leq x)$\n",
    "\n",
    "which is the probability that the realization of the random variable $X$ ends up less than or equal to the given number $x$. This is also called a **cumulative distribution function**.\n",
    "\n",
    "When the variable $X$ takes discrete values, this distribution is obtained by summing the step values less than or equal to $x$. That is\n",
    "\n",
    "$F(x) = \\Sigma_{x_{j} \\leq x}f(x_{j})$\n",
    "\n",
    "where the function $f(x)$ is called the **frequency function** or the **probability density function ($p.d.f$)**.\n",
    "\n",
    "When the variable is continuous, the distribution is given by \n",
    "\n",
    "$F(x) = \\int^{x}_{-\\infty}f(u)du$\n",
    "\n",
    "The density can be obtained from the distribution using \n",
    "\n",
    "$f(x) = \\frac{dF(x)}{dx}$\n",
    "\n",
    "Often, the random variable will be described interchangeably by its distribution or its density.\n",
    "\n",
    "The density $f(u)$ must be positive for all $u$. As $x$ tends to infinity, the distribution tends to unity as it represents the total probability of any draw for $x$:\n",
    "\n",
    "$\\int^{\\infty}_{-\\infty}f(u)du = 1$\n",
    "\n",
    "### Moments"
   ]
  },
  {
   "cell_type": "markdown",
   "metadata": {},
   "source": [
    "A random variable is characterized by its distribution function. We can summarize it by a few parameters, or **moments**.\n",
    "\n",
    "For instance, the expected value for $x$, or **mean**, is given by the integral \n",
    "\n",
    "$\\mu = E(X) = \\int^{+\\infty}_{-\\infty}xf(x)dx$\n",
    "\n",
    "which measures the central tendency, or center of gravity of the population.\n",
    "\n",
    "The distribtion can also be described by its **quantile**, which is the cutoff point $x$ with an associated probability $c$:\n",
    "\n",
    "$F(x) = \\int^{x}_{-\\infty}f(u)du$ = c\n",
    "\n",
    "Define this quantile as $Q(X, c)$. The $50%$ quantile is known as the **median**.\n",
    "\n",
    "In fact, value at risk ($VAR$) can be interpreted as the cutoff point such that a loss will not happen with probability greater than $p = 95%$. If $f(u)$ us the distribution of profit and losses on the portfolio, $VAR$ is defined from \n",
    "\n",
    "$F(x) = \\int^{x}_{-\\infty}f(u)du = (1 - p)$\n",
    "\n",
    "where $p$ is the right-tail probability, and $c$ the usual left-tail probability. $VAR$ can be defined as minus the quantile itself, or alternatively, the deviation between the expected value and the quantile, \n",
    "\n",
    "$VAR(c) = E(X) - Q(X, c)$\n",
    "\n",
    "Note that $VAR$ is typically reported as a loss (i.e., a positive number), which explains the negative sign.\n",
    "\n",
    "Another useful moment is the squared dispersion around the mean, or **variance**:\n",
    "\n",
    "$\\sigma^{2} = V(X) = \\int^{+\\infty}_{-\\infty}[x - E(X)]^{2}f(x)dx$\n",
    "\n",
    "The **standard deviation** is more convenient to use as it has the same units as the original variable $X$:\n",
    "\n",
    "$SD(X) = \\sigma = \\sqrt{V(X)}$\n",
    "\n",
    "The scaled third moment is the **skewness**, which describes departures from symmetry. It is defined as\n",
    "\n",
    "$\\gamma = (\\int^{+\\infty}_{-\\infty}[x - E(X)]^{3}f(x)dx)/\\sigma^{3}$\n",
    "\n",
    "Negative skewness indicates that the distribution has a long left tail, which indicates a high probability of observing large negative values. If this represents the distribution of profits and losses for a portfolio, this is a dangerous situation.\n",
    "\n",
    "The scaled fourth moment is the **kurtosis**, which describes the degree of flatness of a distribution, or width of its tails. It is defined as \n",
    "\n",
    "$\\delta = (\\int^{+\\infty}_{-\\infty}[x - E(X)]^{4}f(x)dx)/\\sigma^{4}$\n",
    "\n",
    "Because of the fourth power, large observations in the tail will have a large weight and hence create large kurtosis. Such a distribution is called **leptokurtic**, or **fat-tailed**. This parameter is very important for risk management. A kurtosis of $3$ is considered average, and represents a normal distribution. High kurtosis indicates a higher probability of extreme movements. A distribution with kurtosis lower than $3$ is called **platykurtic**."
   ]
  },
  {
   "cell_type": "markdown",
   "metadata": {},
   "source": [
    "## <a name=\"multivariate_distribution_functions\">Multivariate Distribution Functions</a>\n",
    "In practice, portfolio payoffs depend on numerous random variables. \n",
    "### Joint distributions\n",
    "We can extend univariate distribution function to \n",
    "\n",
    "$F_{12}(x_{1}, x_{2}) = P(X_{1} \\leq x_{1}, X_{2} \\leq x_{2}) $\n",
    "\n",
    "which defines a joint bivariate distributiion function. In the continuous case, this is also\n",
    "\n",
    "$F_{12}(x_{1}, x_{2}) = \\int^{x_{1}}_{-\\infty}\\int^{x_{2}}_{-\\infty}f_{12}(u_{1}, u_{2})du_{1}du_{2}$\n",
    "\n",
    "where $f(u_{1}, u_{2})$ is now the **joint density**.\n",
    "\n",
    "The analysis simplifies considerably if the variables are **independent**. In this case, the joint density separates out into the product of the densities:\n",
    "\n",
    "$f_{12}(u_{1}, u_{2}) = f_{1}(u_{1}) \\times f_{2}(u_{2})$\n",
    "\n",
    "and the integral reduces to \n",
    "\n",
    "$F_{12}(x_{1}, x_{2}) = F_{1}(x_{1}) \\times F_{2}(x_{2})\n",
    "\n",
    "It's also useful to characterize the distribution of x_{1} abstracting from x_{2}. By integrating over all values of x_{2}, we obtain the **marginal density**:\n",
    "\n",
    "$f_{1}(x_{1}) = \\int^{\\infty}_{-\\infty}f_{12}(x_{1}, u_{2})du_{2}$\n",
    "\n",
    "and similarly for $x_{2}$. We can then define the **conditional density** as \n",
    "\n",
    "$f_{1 \\cdot 2}(x_{1} | x_{2}) = \\frac{f_{12}(x_{1}, x_{2})}{f_{2}(x_{2})}$\n",
    "\n",
    "Here we keep $x_{2}$ fixed and divide the joint density by the marginal probability of $x_{2}$. This normalization is necessary to ensure that the conditional density is a proper density function that integrates to one. This relationship is also known as **Bayes' rule**."
   ]
  },
  {
   "cell_type": "markdown",
   "metadata": {},
   "source": [
    "### Covariances and correlations\n",
    "When dealing with two random variables, the comovement can be described by the **covariance**:\n",
    "\n",
    "$Cov(X_{1}, X_{2}) = \\sigma_{12} = \\int_{1}\\int_{2}[x_{1} - E(X_{1})][x_{2} - E(X_{2})]f_{12}(x_{1}, x_{2})dx_{1}dx_{2}$\n",
    "\n",
    "It's often useful to scale the covariance into a unitless number, called the **correlation coefficient**, obtained as \n",
    "\n",
    "$\\rho(X_{1}, X_{2}) = \\frac{Cov(X_{1}, X_{2})}{\\sigma_{1}\\sigma_{2}}$\n",
    "\n",
    "The correlation coefficient is a measure of linear dependence. The correlation coefficient always lies in the $[-1, +1]$ interval. A correlation of $1$ means that the two variables always move in the same direction. A correlation of $-1$ means that the two variables always move in the opposite direction.\n",
    "\n",
    "The above-mentioned equation is also called **Pearson correlation**. Another measure is the **Spearman correlation**, which replaces the value of the variables by their rank. This nonparametric measure is less sensitive to outliers, and hence more robust than the usual correlation when there might be errors in the data.\n",
    "\n",
    "If the variables are independent, the two variables are said to be **uncorrelated**. Independence implies $0$ correlation (the reverse is not true, however)."
   ]
  },
  {
   "cell_type": "code",
   "execution_count": null,
   "metadata": {},
   "outputs": [],
   "source": []
  },
  {
   "cell_type": "code",
   "execution_count": null,
   "metadata": {},
   "outputs": [],
   "source": []
  },
  {
   "cell_type": "code",
   "execution_count": null,
   "metadata": {},
   "outputs": [],
   "source": []
  },
  {
   "cell_type": "code",
   "execution_count": null,
   "metadata": {},
   "outputs": [],
   "source": []
  },
  {
   "cell_type": "code",
   "execution_count": null,
   "metadata": {},
   "outputs": [],
   "source": []
  },
  {
   "cell_type": "code",
   "execution_count": null,
   "metadata": {},
   "outputs": [],
   "source": []
  },
  {
   "cell_type": "code",
   "execution_count": null,
   "metadata": {},
   "outputs": [],
   "source": []
  },
  {
   "cell_type": "code",
   "execution_count": null,
   "metadata": {},
   "outputs": [],
   "source": []
  },
  {
   "cell_type": "code",
   "execution_count": null,
   "metadata": {},
   "outputs": [],
   "source": []
  },
  {
   "cell_type": "code",
   "execution_count": null,
   "metadata": {},
   "outputs": [],
   "source": []
  },
  {
   "cell_type": "code",
   "execution_count": null,
   "metadata": {},
   "outputs": [],
   "source": []
  },
  {
   "cell_type": "code",
   "execution_count": null,
   "metadata": {},
   "outputs": [],
   "source": []
  },
  {
   "cell_type": "code",
   "execution_count": null,
   "metadata": {},
   "outputs": [],
   "source": []
  },
  {
   "cell_type": "code",
   "execution_count": null,
   "metadata": {},
   "outputs": [],
   "source": []
  },
  {
   "cell_type": "code",
   "execution_count": null,
   "metadata": {},
   "outputs": [],
   "source": []
  },
  {
   "cell_type": "code",
   "execution_count": null,
   "metadata": {},
   "outputs": [],
   "source": []
  },
  {
   "cell_type": "code",
   "execution_count": null,
   "metadata": {},
   "outputs": [],
   "source": []
  },
  {
   "cell_type": "code",
   "execution_count": null,
   "metadata": {},
   "outputs": [],
   "source": []
  }
 ],
 "metadata": {
  "kernelspec": {
   "display_name": "Python 3",
   "language": "python",
   "name": "python3"
  },
  "language_info": {
   "codemirror_mode": {
    "name": "ipython",
    "version": 3
   },
   "file_extension": ".py",
   "mimetype": "text/x-python",
   "name": "python",
   "nbconvert_exporter": "python",
   "pygments_lexer": "ipython3",
   "version": "3.5.2"
  }
 },
 "nbformat": 4,
 "nbformat_minor": 2
}
