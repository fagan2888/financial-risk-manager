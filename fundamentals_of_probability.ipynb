{
 "cells": [
  {
   "cell_type": "markdown",
   "metadata": {},
   "source": [
    "# Fundamentals of Probability"
   ]
  },
  {
   "cell_type": "markdown",
   "metadata": {},
   "source": [
    "The preceding notebook shows how a risk manager can characterize the risk of a portfolio using a frequency distribution. This process uses the tools of probability, a mathematical abstraction that constructs the distribution of random variable. These random variables are financial risk factors, such as movements in stock prices, in bond prices, in exchange rates, and in commodity prices. These risk factor are then transformed into profits and losses on the portfolio, which can be described by a probability distribution function.\n",
    "\n",
    "Table of contents:\n",
    "- [Characterize Random Variables](#characterize_random_variables)\n",
    "- [Multivariate Distribution Functions](#multivariate_distribution_functions)\n",
    "- [Functions of Random Variables](#functions_of_random_variables)\n",
    "- [Important Distribution Functions](#important_distribution_functions)"
   ]
  },
  {
   "cell_type": "markdown",
   "metadata": {},
   "source": [
    "## <a name=\"characterize_random_variables\">Characterize Random Variables</a>\n",
    "The classical approach to probability is based on the concept of the **random variable ($RV$)**. This can be viewed as the outcome from throwing a die. Each realization is generated from a fixed process. If the die is perfectly symmetrical, with six-faces, we could say that the probability of observing a face with a specified number in one throw is $p = 1/6$.\n",
    "### Univariate distribution functions\n",
    "For example, a random variable $X$ is characterized by a **distribution function**, \n",
    "\n",
    "$F(x) = P(X \\leq x)$\n",
    "\n",
    "which is the probability that the realization of the random variable $X$ ends up less than or equal to the given number $x$. This is also called a **cumulative distribution function**.\n",
    "\n",
    "When the variable $X$ takes discrete values, this distribution is obtained by summing the step values less than or equal to $x$. That is\n",
    "\n",
    "$F(x) = \\Sigma_{x_{j} \\leq x}f(x_{j})$\n",
    "\n",
    "where the function $f(x)$ is called the **frequency function** or the **probability density function ($p.d.f$)**.\n",
    "\n",
    "When the variable is continuous, the distribution is given by \n",
    "\n",
    "$F(x) = \\int^{x}_{-\\infty}f(u)du$\n",
    "\n",
    "The density can be obtained from the distribution using \n",
    "\n",
    "$f(x) = \\frac{dF(x)}{dx}$\n",
    "\n",
    "Often, the random variable will be described interchangeably by its distribution or its density.\n",
    "\n",
    "The density $f(u)$ must be positive for all $u$. As $x$ tends to infinity, the distribution tends to unity as it represents the total probability of any draw for $x$:\n",
    "\n",
    "$\\int^{\\infty}_{-\\infty}f(u)du = 1$\n",
    "\n",
    "### Moments"
   ]
  },
  {
   "cell_type": "markdown",
   "metadata": {},
   "source": [
    "A random variable is characterized by its distribution function. We can summarize it by a few parameters, or **moments**.\n",
    "\n",
    "For instance, the expected value for $x$, or **mean**, is given by the integral \n",
    "\n",
    "$\\mu = E(X) = \\int^{+\\infty}_{-\\infty}xf(x)dx$\n",
    "\n",
    "which measures the central tendency, or center of gravity of the population.\n",
    "\n",
    "The distribtion can also be described by its **quantile**, which is the cutoff point $x$ with an associated probability $c$:\n",
    "\n",
    "$F(x) = \\int^{x}_{-\\infty}f(u)du$ = c\n",
    "\n",
    "Define this quantile as $Q(X, c)$. The $50%$ quantile is known as the **median**.\n",
    "\n",
    "In fact, value at risk ($VAR$) can be interpreted as the cutoff point such that a loss will not happen with probability greater than $p = 95%$. If $f(u)$ us the distribution of profit and losses on the portfolio, $VAR$ is defined from \n",
    "\n",
    "$F(x) = \\int^{x}_{-\\infty}f(u)du = (1 - p)$\n",
    "\n",
    "where $p$ is the right-tail probability, and $c$ the usual left-tail probability. $VAR$ can be defined as minus the quantile itself, or alternatively, the deviation between the expected value and the quantile, \n",
    "\n",
    "$VAR(c) = E(X) - Q(X, c)$\n",
    "\n",
    "Note that $VAR$ is typically reported as a loss (i.e., a positive number), which explains the negative sign.\n",
    "\n",
    "Another useful moment is the squared dispersion around the mean, or **variance**:\n",
    "\n",
    "$\\sigma^{2} = V(X) = \\int^{+\\infty}_{-\\infty}[x - E(X)]^{2}f(x)dx$\n",
    "\n",
    "The **standard deviation** is more convenient to use as it has the same units as the original variable $X$:\n",
    "\n",
    "$SD(X) = \\sigma = \\sqrt{V(X)}$\n",
    "\n",
    "The scaled third moment is the **skewness**, which describes departures from symmetry. It is defined as\n",
    "\n",
    "$\\gamma = (\\int^{+\\infty}_{-\\infty}[x - E(X)]^{3}f(x)dx)/\\sigma^{3}$\n",
    "\n",
    "Negative skewness indicates that the distribution has a long left tail, which indicates a high probability of observing large negative values. If this represents the distribution of profits and losses for a portfolio, this is a dangerous situation.\n",
    "\n",
    "The scaled fourth moment is the **kurtosis**, which describes the degree of flatness of a distribution, or width of its tails. It is defined as \n",
    "\n",
    "$\\delta = (\\int^{+\\infty}_{-\\infty}[x - E(X)]^{4}f(x)dx)/\\sigma^{4}$\n",
    "\n",
    "Because of the fourth power, large observations in the tail will have a large weight and hence create large kurtosis. Such a distribution is called **leptokurtic**, or **fat-tailed**. This parameter is very important for risk management. A kurtosis of $3$ is considered average, and represents a normal distribution. High kurtosis indicates a higher probability of extreme movements. A distribution with kurtosis lower than $3$ is called **platykurtic**."
   ]
  },
  {
   "cell_type": "markdown",
   "metadata": {},
   "source": [
    "## <a name=\"multivariate_distribution_functions\">Multivariate Distribution Functions</a>\n",
    "In practice, portfolio payoffs depend on numerous random variables. \n",
    "### Joint distributions\n",
    "We can extend univariate distribution function to \n",
    "\n",
    "$F_{12}(x_{1}, x_{2}) = P(X_{1} \\leq x_{1}, X_{2} \\leq x_{2}) $\n",
    "\n",
    "which defines a joint bivariate distributiion function. In the continuous case, this is also\n",
    "\n",
    "$F_{12}(x_{1}, x_{2}) = \\int^{x_{1}}_{-\\infty}\\int^{x_{2}}_{-\\infty}f_{12}(u_{1}, u_{2})du_{1}du_{2}$\n",
    "\n",
    "where $f(u_{1}, u_{2})$ is now the **joint density**.\n",
    "\n",
    "The analysis simplifies considerably if the variables are **independent**. In this case, the joint density separates out into the product of the densities:\n",
    "\n",
    "$f_{12}(u_{1}, u_{2}) = f_{1}(u_{1}) \\times f_{2}(u_{2})$\n",
    "\n",
    "and the integral reduces to \n",
    "\n",
    "$F_{12}(x_{1}, x_{2}) = F_{1}(x_{1}) \\times F_{2}(x_{2})\n",
    "\n",
    "It's also useful to characterize the distribution of x_{1} abstracting from x_{2}. By integrating over all values of x_{2}, we obtain the **marginal density**:\n",
    "\n",
    "$f_{1}(x_{1}) = \\int^{\\infty}_{-\\infty}f_{12}(x_{1}, u_{2})du_{2}$\n",
    "\n",
    "and similarly for $x_{2}$. We can then define the **conditional density** as \n",
    "\n",
    "$f_{1 \\cdot 2}(x_{1} | x_{2}) = \\frac{f_{12}(x_{1}, x_{2})}{f_{2}(x_{2})}$\n",
    "\n",
    "Here we keep $x_{2}$ fixed and divide the joint density by the marginal probability of $x_{2}$. This normalization is necessary to ensure that the conditional density is a proper density function that integrates to one. This relationship is also known as **Bayes' rule**."
   ]
  },
  {
   "cell_type": "markdown",
   "metadata": {},
   "source": [
    "### Covariances and correlations\n",
    "When dealing with two random variables, the comovement can be described by the **covariance**:\n",
    "\n",
    "$Cov(X_{1}, X_{2}) = \\sigma_{12} = \\int_{1}\\int_{2}[x_{1} - E(X_{1})][x_{2} - E(X_{2})]f_{12}(x_{1}, x_{2})dx_{1}dx_{2}$\n",
    "\n",
    "It's often useful to scale the covariance into a unitless number, called the **correlation coefficient**, obtained as \n",
    "\n",
    "$\\rho(X_{1}, X_{2}) = \\frac{Cov(X_{1}, X_{2})}{\\sigma_{1}\\sigma_{2}}$\n",
    "\n",
    "The correlation coefficient is a measure of linear dependence. The correlation coefficient always lies in the $[-1, +1]$ interval. A correlation of $1$ means that the two variables always move in the same direction. A correlation of $-1$ means that the two variables always move in the opposite direction.\n",
    "\n",
    "The above-mentioned equation is also called **Pearson correlation**. Another measure is the **Spearman correlation**, which replaces the value of the variables by their rank. This nonparametric measure is less sensitive to outliers, and hence more robust than the usual correlation when there might be errors in the data.\n",
    "\n",
    "If the variables are independent, the two variables are said to be **uncorrelated**. Independence implies $0$ correlation (the reverse is not true, however)."
   ]
  },
  {
   "cell_type": "markdown",
   "metadata": {},
   "source": [
    "## <a name=\"functions_of_random_variables\">Functions of Random Variables</a>\n",
    "Risk management is about uncovering the distribution of portfolio values. Consider a security that depends on a unique source of risk, such as bond. The risk manager could model the change in the bond price as a random variable ($RV$) directly. The problem with this choice is that the distribution of the bond price is not stationary, because the price converges to the face value at expiration.\n",
    "\n",
    "Instead, the practice is to model the change in yields as a random variable because its distribution is better behaved. The next step is to use the relationship between the bond price and the yield to uncover the distribution of the bond price.\n",
    "\n",
    "This illustrates a general principle of risk management, which is to model the risk factor first, then to derive the distribution of the instrument from information about the function that links the instrument value to the risk factor.\n",
    "### Linear transformation of random variables\n",
    "Consider a transformation that multiplies the original random variable by a constant and add a fixed amount, $Y = a + bX$. The expectation of $Y$ is \n",
    "\n",
    "$E(a + bX) = a + bE(X)$\n",
    "\n",
    "and its variance is \n",
    "\n",
    "$V(a + bX) = b^{2}V(X)$\n",
    "\n",
    "Note that adding a constant never affects the variance since the computation involves the difference between the variable and its mean. The standard deviation is \n",
    "\n",
    "$SD(a + bX) = bSD(X)$\n",
    "### Sum of random variables\n",
    "The expectation of the sum $Y = X_{1} + X_{2}$ can be written as \n",
    "\n",
    "$E(X_{1} + X_{2}) = E(X_{1}) + E(X_{2})$\n",
    "\n",
    "and its variance is \n",
    "\n",
    "$V(X_{1} + X_{2}) = V(X_{1}) + V(X_{2}) + 2Cov(X_{1}, X_{2})$\n",
    "\n",
    "When the variables are uncorrelated, the variance of the sum reduces to the sum of variances. Otherwise, we have to account for the cross-product term."
   ]
  },
  {
   "cell_type": "markdown",
   "metadata": {},
   "source": [
    "### Portfolios of random variables\n",
    "More generally, consider a linear combination of a number of random variables. This could be a portfolio with fixed weights, for which the rate of return is \n",
    "\n",
    "$Y = \\Sigma^{N}_{i=1}w_{i}X_{i}$\n",
    "\n",
    "where $N$ is the number of assets, $X_{i}$ is the rate of return on asset $i$, and $w_{i}$ its weight.\n",
    "\n",
    "In matrix notation:\n",
    "\n",
    "$Y = w_{1}X_{1} + ... + w_{N}X_{N} = \\begin{bmatrix} w_{1}&w_{2}&\\dots &w_{N} \\end{bmatrix} \\begin{bmatrix} X_{1} \\\\ X_{2} \\\\ \\vdots \\\\ X_{N} \\end{bmatrix} = w'X$\n",
    "\n",
    "The portfolio expected return is now \n",
    "\n",
    "$E(Y) = \\mu_{p} = \\Sigma^{N}_{i=1}w_{i}\\mu_{i}$\n",
    "\n",
    "which is a weighted average of the expected returns $\\mu_{i} = E(X_{i})$. The variance is \n",
    "\n",
    "$V(Y) = \\sigma^{2}_{p} = \\Sigma^{N}_{i=1}w^{2}_{i}\\sigma^{2}_{i} +\\Sigma^{N}_{i=1}\\Sigma^{N}_{j=1,j\\neq i}w_{i}w_{j}\\sigma_{ij} = \\Sigma^{N}_{i=1}w^{2}_{i}\\sigma^{2}_{i} + 2\\Sigma^{N}_{i=1}\\Sigma^{N}_{j<i}w_{i}w_{j}\\sigma_{ij}$\n",
    "\n",
    "Using matrix notation:\n",
    "\n",
    "$\\sigma^{2}_{p} = \\begin{bmatrix} w_{1}&\\dots&w_{N} \\end{bmatrix} \\begin{bmatrix} \\sigma_{11}&\\sigma_{12}&\\sigma_{13}&\\dots&\\sigma_{1N} \\\\ \\vdots & & & & \\vdots \\\\ \\sigma_{N1}&\\sigma_{N2}&\\sigma_{N3}&\\dots&\\sigma_{NN} \\end{bmatrix} \\begin{bmatrix} w_{1} \\\\ \\vdots \\\\ w_{N} \\end{bmatrix} = w'\\Sigma w$\n",
    "\n",
    "Define $\\Sigma$ as the covariance matrix. This is a useful expression to describe the risk of the total portfolio."
   ]
  },
  {
   "cell_type": "markdown",
   "metadata": {},
   "source": [
    "### Product of random variables\n",
    "The expectation of the product $Y = X_{1}X_{2}$ can ve written as\n",
    "\n",
    "$E(X_{1} X_{2}) = E(X_{1})E(X_{2}) + Cov(X_{1}, X_{2})$\n",
    "\n",
    "When the variables are independent, this reduces to the product of the means. \n",
    "\n",
    "The variance is more complex to evaluate. With independence, it reduces to:\n",
    "\n",
    "$V(X_{1} X_{2}) = E(X_{1})^{2}V(X_{2}) + V(X_{1})E(X_{2})^{2} + V(X_{1})V(X_{2})$"
   ]
  },
  {
   "cell_type": "markdown",
   "metadata": {},
   "source": [
    "### Distributions of transformations of random variables\n",
    "The distribution of the transformed variable $Y = g(X)$ is usually complicated for all but the simplest transformations $g(\\cdot)$ and densities $f(X)$. Even if there is no closed-form solution for the density, we can describe the cumulative distribution function of $Y$ when $g(X)$ is a one-to-one transformation from $X$ into $Y$. This implies that the function can be inverted, or that for a given $y$, we can find $x$ such that $x = g^{-1}(y)$. We can then write\n",
    "\n",
    "$P[Y \\leq y] = P[g(X) \\leq y] = P[X \\leq g^{-1}(y)] = F_{x}(g^{-1}(y))$\n",
    "\n",
    "where $F(\\cdot)$ is the cumulative distributive function of $X$. Here, we assumed the relationship is positive. Otherwise, the right-hand term is changed to $1 - F_{x}(g^{-1}(y))$.\n",
    "\n",
    "This allows us to derive the quantile of the bond price from information about the probability distribution of the yield. Suppose we consider a zero-coupon bond, for which the market value $V$ is \n",
    "\n",
    "$V = \\frac{100}{(1 + r)^{T}}$\n",
    "\n",
    "where $r$ is the yield. \n",
    "\n",
    "$r = (100/V)^{1/T} - 1$\n",
    "\n",
    "Unfortunately, this method cannot be easily extended. For general density functions and transformations, risk managers turn to numerical methods, especially when the number of random variables is large. This is why credit risk models all describe the distribution of credit losses through simulations."
   ]
  },
  {
   "cell_type": "markdown",
   "metadata": {},
   "source": [
    "## <a name=\"important_distribution_functions\">Important Distribution Functions</a>\n",
    "### Uniform distribution\n",
    "$f(x) = \\frac{1}{b - a}$, $a \\leq x \\leq b$\n",
    "\n",
    "This density function is constant and indeed integrates to unity. This distribution puts the same weight on each observation within the allowable range. We denote this distribution as $U(a, b)$. It's mean and variance are given by\n",
    "\n",
    "$E(X) = \\frac{a + b}{2}$\n",
    "\n",
    "$V(X) = \\frac{(b - a)^{2}}{12}$\n",
    "\n",
    "The uniform distribution $U(0, 1)$ is widely used as a starting distribution for generating random variables from any distribution $F(Y)$ in simulations. We need to have analytical formulas for the $p.d.f$ $f(Y)$ and its sumulative distribution $F(Y)$. As any cumulative distribution function ranges from zero to unity, we first draw $X$ from $U(0, 1)$ and then compute $y = F^{-1}(x)$. The random variable will then have the desired distribution $f(Y)$."
   ]
  },
  {
   "cell_type": "markdown",
   "metadata": {},
   "source": [
    "### Normal distribution\n",
    "The daily rate of return in a stock price has a distribution similar to the normal $p.d.f$. The normal distribution can be characterized by its first two moments only, the mean $\\mu$ and variance $\\sigma^{2}$. The first parameter represents the location; the second, the dispersion. \n",
    "\n",
    "$f(x) = \\frac{1}{\\sqrt{2\\pi \\sigma^{2}}} exp[-\\frac{1}{2\\sigma^{2}}(x - \\mu)^{2}]$\n",
    "\n",
    "Its mean is $E[X] = \\mu$ and variance $V[X] = \\sigma^{2}$. We denote this distribution as $N(\\mu, \\sigma^2)$. Because the function can be fully specified by these two parameters, it's called a **parametric function**.\n",
    "\n",
    "Instead of having to deal with different parameters, it's often more convenient to use a **standard normal variable** as $\\epsilon$, which has been standardized, or normalized, so that $E(\\epsilon) = 0, V(\\epsilon) = \\sigma(\\epsilon) = 1$.\n",
    "\n",
    "First, note that the function is symmetrical around the mean. Its mean of zero is the same as its **mode** (which is also the most likely, or highest, point on this curve) and **median** (which is such that the area to the left is a $50\\%$ probability). The skewness of a normal distribution is $0$, which indicates that it is symmetrical around the mean. The kurtosis of a normal distribution is $3$. Distributions with fatter tails have a greater kurtosis coefficient.\n",
    "\n",
    "$\\int^{\\infty}_{-\\alpha}f(\\epsilon)d\\epsilon = c$\n",
    "\n",
    "For example, $-\\alpha = -1.645$ is the quantile that corresponds to a $95\\%$ probability (confidence level).\n",
    "\n",
    "This distribution plays a central role in finance because it represents adequately the behavior of many financial variables. For instance, it enters the Black-Scholes option pricing formula where the function $N(\\cdot)$ represents the cumulative standardized normal distribution function.\n",
    "\n",
    "The distribution of any normal variable can then be recovered from that of the standard normal, by defining\n",
    "\n",
    "$X = \\mu + \\epsilon\\sigma$\n",
    "\n",
    "We can show that $X$ has indeed the desired moments, as $E(X) = \\mu + E(\\epsilon)\\sigma = \\mu$ and $V(X) = V(\\epsilon)\\sigma^{2} = \\sigma^{2}$.\n",
    "\n",
    "Define the random variable as the change in the dollar value of a portfolio. The expected value is $E(X) = \\mu$. To find the quantile of $X$ at the specified confidence level $c$, we replace $\\epsilon$ by $-\\alpha$. This gives $Q(X, c) = \\mu - \\alpha\\sigma$. We then can compute $VAR$ as\n",
    "\n",
    "$VAR = E(X) - Q(X, c) = \\mu - (\\mu - \\alpha\\sigma) = \\alpha\\sigma$\n",
    "\n",
    "The normal distribution is one of the few distributions that is stable under addition. In other words, a linear combination of joint normally distribured random variables has a normal distribution. This is extremely useful because we need to know only the mean and variance of the portfoliio to reconstruct its whole distribution."
   ]
  },
  {
   "cell_type": "markdown",
   "metadata": {},
   "source": []
  },
  {
   "cell_type": "code",
   "execution_count": null,
   "metadata": {},
   "outputs": [],
   "source": []
  },
  {
   "cell_type": "code",
   "execution_count": null,
   "metadata": {},
   "outputs": [],
   "source": []
  },
  {
   "cell_type": "code",
   "execution_count": null,
   "metadata": {},
   "outputs": [],
   "source": []
  },
  {
   "cell_type": "code",
   "execution_count": null,
   "metadata": {},
   "outputs": [],
   "source": []
  },
  {
   "cell_type": "code",
   "execution_count": null,
   "metadata": {},
   "outputs": [],
   "source": []
  },
  {
   "cell_type": "code",
   "execution_count": null,
   "metadata": {},
   "outputs": [],
   "source": []
  },
  {
   "cell_type": "code",
   "execution_count": null,
   "metadata": {},
   "outputs": [],
   "source": []
  },
  {
   "cell_type": "code",
   "execution_count": null,
   "metadata": {},
   "outputs": [],
   "source": []
  },
  {
   "cell_type": "code",
   "execution_count": null,
   "metadata": {},
   "outputs": [],
   "source": []
  },
  {
   "cell_type": "code",
   "execution_count": null,
   "metadata": {},
   "outputs": [],
   "source": []
  },
  {
   "cell_type": "code",
   "execution_count": null,
   "metadata": {},
   "outputs": [],
   "source": []
  },
  {
   "cell_type": "code",
   "execution_count": null,
   "metadata": {},
   "outputs": [],
   "source": []
  },
  {
   "cell_type": "code",
   "execution_count": null,
   "metadata": {},
   "outputs": [],
   "source": []
  },
  {
   "cell_type": "code",
   "execution_count": null,
   "metadata": {},
   "outputs": [],
   "source": []
  },
  {
   "cell_type": "code",
   "execution_count": null,
   "metadata": {},
   "outputs": [],
   "source": []
  },
  {
   "cell_type": "code",
   "execution_count": null,
   "metadata": {},
   "outputs": [],
   "source": []
  },
  {
   "cell_type": "code",
   "execution_count": null,
   "metadata": {},
   "outputs": [],
   "source": []
  },
  {
   "cell_type": "code",
   "execution_count": null,
   "metadata": {},
   "outputs": [],
   "source": []
  },
  {
   "cell_type": "code",
   "execution_count": null,
   "metadata": {},
   "outputs": [],
   "source": []
  },
  {
   "cell_type": "code",
   "execution_count": null,
   "metadata": {},
   "outputs": [],
   "source": []
  },
  {
   "cell_type": "code",
   "execution_count": null,
   "metadata": {},
   "outputs": [],
   "source": []
  },
  {
   "cell_type": "code",
   "execution_count": null,
   "metadata": {},
   "outputs": [],
   "source": []
  },
  {
   "cell_type": "code",
   "execution_count": null,
   "metadata": {},
   "outputs": [],
   "source": []
  },
  {
   "cell_type": "code",
   "execution_count": null,
   "metadata": {},
   "outputs": [],
   "source": []
  },
  {
   "cell_type": "code",
   "execution_count": null,
   "metadata": {},
   "outputs": [],
   "source": []
  },
  {
   "cell_type": "code",
   "execution_count": null,
   "metadata": {},
   "outputs": [],
   "source": []
  },
  {
   "cell_type": "code",
   "execution_count": null,
   "metadata": {},
   "outputs": [],
   "source": []
  },
  {
   "cell_type": "code",
   "execution_count": null,
   "metadata": {},
   "outputs": [],
   "source": []
  },
  {
   "cell_type": "code",
   "execution_count": null,
   "metadata": {},
   "outputs": [],
   "source": []
  },
  {
   "cell_type": "code",
   "execution_count": null,
   "metadata": {},
   "outputs": [],
   "source": []
  },
  {
   "cell_type": "code",
   "execution_count": null,
   "metadata": {},
   "outputs": [],
   "source": []
  },
  {
   "cell_type": "code",
   "execution_count": null,
   "metadata": {},
   "outputs": [],
   "source": []
  },
  {
   "cell_type": "code",
   "execution_count": null,
   "metadata": {},
   "outputs": [],
   "source": []
  },
  {
   "cell_type": "code",
   "execution_count": null,
   "metadata": {},
   "outputs": [],
   "source": []
  },
  {
   "cell_type": "code",
   "execution_count": null,
   "metadata": {},
   "outputs": [],
   "source": []
  },
  {
   "cell_type": "code",
   "execution_count": null,
   "metadata": {},
   "outputs": [],
   "source": []
  },
  {
   "cell_type": "code",
   "execution_count": null,
   "metadata": {},
   "outputs": [],
   "source": []
  },
  {
   "cell_type": "code",
   "execution_count": null,
   "metadata": {},
   "outputs": [],
   "source": []
  },
  {
   "cell_type": "code",
   "execution_count": null,
   "metadata": {},
   "outputs": [],
   "source": []
  },
  {
   "cell_type": "code",
   "execution_count": null,
   "metadata": {},
   "outputs": [],
   "source": []
  },
  {
   "cell_type": "code",
   "execution_count": null,
   "metadata": {},
   "outputs": [],
   "source": []
  },
  {
   "cell_type": "code",
   "execution_count": null,
   "metadata": {},
   "outputs": [],
   "source": []
  },
  {
   "cell_type": "code",
   "execution_count": null,
   "metadata": {},
   "outputs": [],
   "source": []
  },
  {
   "cell_type": "code",
   "execution_count": null,
   "metadata": {},
   "outputs": [],
   "source": []
  },
  {
   "cell_type": "code",
   "execution_count": null,
   "metadata": {},
   "outputs": [],
   "source": []
  },
  {
   "cell_type": "code",
   "execution_count": null,
   "metadata": {},
   "outputs": [],
   "source": []
  },
  {
   "cell_type": "code",
   "execution_count": null,
   "metadata": {},
   "outputs": [],
   "source": []
  },
  {
   "cell_type": "code",
   "execution_count": null,
   "metadata": {},
   "outputs": [],
   "source": []
  },
  {
   "cell_type": "code",
   "execution_count": null,
   "metadata": {},
   "outputs": [],
   "source": []
  },
  {
   "cell_type": "code",
   "execution_count": null,
   "metadata": {},
   "outputs": [],
   "source": []
  },
  {
   "cell_type": "code",
   "execution_count": null,
   "metadata": {},
   "outputs": [],
   "source": []
  },
  {
   "cell_type": "code",
   "execution_count": null,
   "metadata": {},
   "outputs": [],
   "source": []
  }
 ],
 "metadata": {
  "kernelspec": {
   "display_name": "Python 3",
   "language": "python",
   "name": "python3"
  },
  "language_info": {
   "codemirror_mode": {
    "name": "ipython",
    "version": 3
   },
   "file_extension": ".py",
   "mimetype": "text/x-python",
   "name": "python",
   "nbconvert_exporter": "python",
   "pygments_lexer": "ipython3",
   "version": "3.5.2"
  }
 },
 "nbformat": 4,
 "nbformat_minor": 2
}
