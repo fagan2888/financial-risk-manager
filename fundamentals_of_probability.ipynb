{
 "cells": [
  {
   "cell_type": "markdown",
   "metadata": {},
   "source": [
    "# Fundamentals of Probability"
   ]
  },
  {
   "cell_type": "markdown",
   "metadata": {},
   "source": [
    "The preceding notebook shows how a risk manager can characterize the risk of a portfolio using a frequency distribution. This process uses the tools of probability, a mathematical abstraction that constructs the distribution of random variable. These random variables are financial risk factors, such as movements in stock prices, in bond prices, in exchange rates, and in commodity prices. These risk factor are then transformed into profits and losses on the portfolio, which can be described by a probability distribution function.\n",
    "\n",
    "Table of contents:\n",
    "- [Characterize Random Variables](#characterize_random_variables)"
   ]
  },
  {
   "cell_type": "markdown",
   "metadata": {},
   "source": [
    "## <a name=\"characterize_random_variables\">Characterize Random Variables</a>\n",
    "The classical approach to probability is based on the concept of the **random variable ($RV$)**. This can be viewed as the outcome from throwing a die. Each realization is generated from a fixed process. If the die is perfectly symmetrical, with six-faces, we could say that the probability of observing a face with a specified number in one throw is $p = 1/6$.\n",
    "### Univariate distribution functions\n",
    "For example, a random variable $X$ is characterized by a **distribution function**, \n",
    "\n",
    "$F(x) = P(X \\leq x)$\n",
    "\n",
    "which is the probability that the realization of the random variable $X$ ends up less than or equal to the given number $x$. This is also called a **cumulative distribution function**.\n",
    "\n",
    "When the variable $X$ takes discrete values, this distribution is obtained by summing the step values less than or equal to $x$. That is\n",
    "\n",
    "$F(x) = \\Sigma_{xj \\leq x}f(x_{j})$\n",
    "\n",
    "where the function $f(x)$ is called the **frequency function** or the **probability density function ($p.d.f$)**.\n",
    "\n",
    "When the variable is continuous, the distribution is given by \n",
    "\n",
    "$F(x) = \\int^{x}_{-\\infty}f(u)du$\n",
    "\n",
    "The density can be obtained from the distribution using \n",
    "\n",
    "$f(x) = \\frac{dF(x)}{dx}$\n",
    "\n",
    "Often, the random variable will be described interchangeably by its distribution or its density.\n",
    "\n",
    "The density $f(u)$ must be positive for all $u$. As $x$ tends to infinity, the distribution tends to unity as it represents the total probability of any draw for $x$:\n",
    "\n",
    "$\\int^{\\infty}_{-\\infty}f(u)du = 1$"
   ]
  },
  {
   "cell_type": "code",
   "execution_count": null,
   "metadata": {},
   "outputs": [],
   "source": []
  },
  {
   "cell_type": "code",
   "execution_count": null,
   "metadata": {},
   "outputs": [],
   "source": []
  },
  {
   "cell_type": "code",
   "execution_count": null,
   "metadata": {},
   "outputs": [],
   "source": []
  },
  {
   "cell_type": "code",
   "execution_count": null,
   "metadata": {},
   "outputs": [],
   "source": []
  },
  {
   "cell_type": "code",
   "execution_count": null,
   "metadata": {},
   "outputs": [],
   "source": []
  },
  {
   "cell_type": "code",
   "execution_count": null,
   "metadata": {},
   "outputs": [],
   "source": []
  },
  {
   "cell_type": "code",
   "execution_count": null,
   "metadata": {},
   "outputs": [],
   "source": []
  },
  {
   "cell_type": "code",
   "execution_count": null,
   "metadata": {},
   "outputs": [],
   "source": []
  },
  {
   "cell_type": "code",
   "execution_count": null,
   "metadata": {},
   "outputs": [],
   "source": []
  },
  {
   "cell_type": "code",
   "execution_count": null,
   "metadata": {},
   "outputs": [],
   "source": []
  },
  {
   "cell_type": "code",
   "execution_count": null,
   "metadata": {},
   "outputs": [],
   "source": []
  },
  {
   "cell_type": "code",
   "execution_count": null,
   "metadata": {},
   "outputs": [],
   "source": []
  },
  {
   "cell_type": "code",
   "execution_count": null,
   "metadata": {},
   "outputs": [],
   "source": []
  }
 ],
 "metadata": {
  "kernelspec": {
   "display_name": "Python 3",
   "language": "python",
   "name": "python3"
  },
  "language_info": {
   "codemirror_mode": {
    "name": "ipython",
    "version": 3
   },
   "file_extension": ".py",
   "mimetype": "text/x-python",
   "name": "python",
   "nbconvert_exporter": "python",
   "pygments_lexer": "ipython3",
   "version": "3.5.2"
  }
 },
 "nbformat": 4,
 "nbformat_minor": 2
}
